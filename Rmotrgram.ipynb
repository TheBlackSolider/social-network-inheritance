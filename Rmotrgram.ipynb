{
  "nbformat": 4,
  "nbformat_minor": 0,
  "metadata": {
    "colab": {
      "provenance": []
    },
    "kernelspec": {
      "name": "python3",
      "display_name": "Python 3"
    },
    "language_info": {
      "name": "python"
    }
  },
  "cells": [
    {
      "cell_type": "markdown",
      "source": [
        "Welcome! In this project, we'll build Rmotrgram, a simplified social network similar to Twitter, using Python classes and object-oriented programming principles.\n",
        "\n",
        "Let's get started!\n"
      ],
      "metadata": {
        "id": "OXeJFsWG-lvB"
      }
    },
    {
      "cell_type": "markdown",
      "source": [
        "Setting Up the Environment\n",
        "\n",
        "\n",
        "First, we'll set up our Google Colab environment. Since Colab runs Python by default, we don't need any additional installations. Let's start by creating a new notebook and ensuring we're ready to code."
      ],
      "metadata": {
        "id": "SyVNFW5d_roi"
      }
    },
    {
      "cell_type": "markdown",
      "source": [
        "Defining the Base Post Class\n"
      ],
      "metadata": {
        "id": "V4RbU-9V_6me"
      }
    },
    {
      "cell_type": "code",
      "source": [
        "from datetime import datetime\n",
        "\n",
        "class Post:\n",
        "    def __init__(self, text):\n",
        "        self.text = text\n",
        "        self.user = None  # Initially, the post has no associated user\n",
        "        self.created_at = datetime.now()  # Timestamp of when the post was created\n",
        "\n",
        "    def __str__(self):\n",
        "        user_name = f\"{self.user.first_name} {self.user.last_name}\" if self.user else \"Unknown User\"\n",
        "        return f'{user_name}: \"{self.text}\"\\n  {self.created_at.strftime(\"%A, %b %d, %Y\")}'\n"
      ],
      "metadata": {
        "id": "WUkSQs8g_71I"
      },
      "execution_count": 1,
      "outputs": []
    },
    {
      "cell_type": "markdown",
      "source": [
        "Creating TextPost, PicturePost, and CheckInPost Classes\n"
      ],
      "metadata": {
        "id": "aLWkA50lBETb"
      }
    },
    {
      "cell_type": "code",
      "source": [
        "class TextPost(Post):\n",
        "    def __init__(self, text):\n",
        "        super().__init__(text)\n"
      ],
      "metadata": {
        "id": "sgpB14EOBFgO"
      },
      "execution_count": 2,
      "outputs": []
    },
    {
      "cell_type": "code",
      "source": [
        "class PicturePost(Post):\n",
        "    def __init__(self, text, image_url):\n",
        "        super().__init__(text)\n",
        "        self.image_url = image_url\n",
        "\n",
        "    def __str__(self):\n",
        "        base_str = super().__str__()\n",
        "        return f'{base_str}\\n  Pic URL: {self.image_url}'\n"
      ],
      "metadata": {
        "id": "Mro_D0XIBJoC"
      },
      "execution_count": 3,
      "outputs": []
    },
    {
      "cell_type": "code",
      "source": [
        "class CheckInPost(Post):\n",
        "    def __init__(self, text, latitude, longitude):\n",
        "        super().__init__(text)\n",
        "        self.latitude = latitude\n",
        "        self.longitude = longitude\n",
        "\n",
        "    def __str__(self):\n",
        "        user_name = f\"{self.user.first_name} {self.user.last_name}\" if self.user else \"Unknown User\"\n",
        "        return (f'{user_name} Checked In: \"{self.text}\"\\n'\n",
        "                f'  {self.latitude}, {self.longitude}\\n'\n",
        "                f'  {self.created_at.strftime(\"%A, %b %d, %Y\")}')\n"
      ],
      "metadata": {
        "id": "tyOV91AfEFUK"
      },
      "execution_count": 4,
      "outputs": []
    },
    {
      "cell_type": "markdown",
      "source": [
        "Defining the User Class\n"
      ],
      "metadata": {
        "id": "6iS0msdaESyv"
      }
    },
    {
      "cell_type": "code",
      "source": [
        "class User:\n",
        "    def __init__(self, first_name, last_name, email):\n",
        "        self.first_name = first_name\n",
        "        self.last_name = last_name\n",
        "        self.email = email\n",
        "        self.posts = []          # List to store the user's posts\n",
        "        self.following = []      # List to store users this user is following\n",
        "\n",
        "    def add_post(self, post):\n",
        "        post.user = self          # Assign the post to this user\n",
        "        self.posts.append(post)   # Add the post to the user's list of posts\n",
        "\n",
        "    def follow(self, other_user):\n",
        "        if other_user not in self.following and other_user != self:\n",
        "            self.following.append(other_user)\n",
        "\n",
        "    def get_timeline(self):\n",
        "        timeline_posts = []\n",
        "        for user in self.following:\n",
        "            timeline_posts.extend(user.posts)\n",
        "        # Sort posts by creation time in descending order (most recent first)\n",
        "        timeline_posts.sort(key=lambda post: post.created_at, reverse=True)\n",
        "        return timeline_posts\n",
        "\n",
        "    def __str__(self):\n",
        "        return f'<User: \"{self.first_name} {self.last_name}\">'\n"
      ],
      "metadata": {
        "id": "T-AiKOhqEU5i"
      },
      "execution_count": 5,
      "outputs": []
    },
    {
      "cell_type": "markdown",
      "source": [
        "Implementing Post Creation and Assignment\n"
      ],
      "metadata": {
        "id": "-V65hfztEhij"
      }
    },
    {
      "cell_type": "code",
      "source": [
        "# Create a user\n",
        "john = User(\"John\", \"Lennon\", \"john@rmotr.com\")\n",
        "\n",
        "# Create different types of posts\n",
        "text_post = TextPost(\"All you need is love!\")\n",
        "picture_post = PicturePost(\"Check my new guitar\", image_url='imgur.com/guitar.png')\n",
        "checkin_post = CheckInPost(\"At Abbey Road Studios\", latitude=\"19.111\", longitude=\"-9.2222\")\n",
        "\n",
        "# Initially, the posts have no user assigned\n",
        "print(text_post.user)  # Output: None\n",
        "\n",
        "# Assign posts to the user\n",
        "john.add_post(text_post)\n",
        "john.add_post(picture_post)\n",
        "john.add_post(checkin_post)\n",
        "\n",
        "# Now, the posts should have the user assigned\n",
        "print(text_post.user)  # Output: <User: \"John Lennon\">\n",
        "print(len(john.posts))  # Output: 3\n"
      ],
      "metadata": {
        "colab": {
          "base_uri": "https://localhost:8080/"
        },
        "id": "RbHWjf7pEkqy",
        "outputId": "d4fdce98-bc34-4960-985f-2b8e210bfb85"
      },
      "execution_count": 6,
      "outputs": [
        {
          "output_type": "stream",
          "name": "stdout",
          "text": [
            "None\n",
            "<User: \"John Lennon\">\n",
            "3\n"
          ]
        }
      ]
    },
    {
      "cell_type": "markdown",
      "source": [
        "Adding Follow Functionality"
      ],
      "metadata": {
        "id": "cflAcU4YExfU"
      }
    },
    {
      "cell_type": "code",
      "source": [
        "# Create more users\n",
        "paul = User(\"Paul\", \"McCartney\", \"paul@rmotr.com\")\n",
        "george = User(\"George\", \"Harrison\", \"george@rmotr.com\")\n",
        "\n",
        "# John follows Paul and George\n",
        "john.follow(paul)\n",
        "john.follow(george)\n",
        "\n",
        "# Verify following list\n",
        "print([str(user) for user in john.following])\n",
        "# Output: ['<User: \"Paul McCartney\">', '<User: \"George Harrison\">']\n"
      ],
      "metadata": {
        "colab": {
          "base_uri": "https://localhost:8080/"
        },
        "id": "V3RHM8s2Ex1K",
        "outputId": "7ca5fce0-7956-4f1d-90b0-037678a5c6c9"
      },
      "execution_count": 7,
      "outputs": [
        {
          "output_type": "stream",
          "name": "stdout",
          "text": [
            "['<User: \"Paul McCartney\">', '<User: \"George Harrison\">']\n"
          ]
        }
      ]
    },
    {
      "cell_type": "markdown",
      "source": [
        "Building the User's Timeline"
      ],
      "metadata": {
        "id": "KQrhNOIfE1et"
      }
    },
    {
      "cell_type": "code",
      "source": [
        "# Paul and George create posts\n",
        "paul.add_post(TextPost(\"Post 1\"))\n",
        "george.add_post(TextPost(\"Post 2\"))\n",
        "paul.add_post(TextPost(\"Post 3\"))\n",
        "\n",
        "# Get John's timeline\n",
        "timeline = john.get_timeline()\n",
        "print([post.text for post in timeline])\n",
        "# Output: ['Post 3', 'Post 2', 'Post 1']\n"
      ],
      "metadata": {
        "colab": {
          "base_uri": "https://localhost:8080/"
        },
        "id": "B11y5iYRE4T6",
        "outputId": "069e42ed-30a2-4f90-c039-84cf84ec32f1"
      },
      "execution_count": 8,
      "outputs": [
        {
          "output_type": "stream",
          "name": "stdout",
          "text": [
            "['Post 3', 'Post 2', 'Post 1']\n"
          ]
        }
      ]
    },
    {
      "cell_type": "markdown",
      "source": [
        " Implementing Custom __str__ Methods"
      ],
      "metadata": {
        "id": "fvjHHpmXE_YH"
      }
    },
    {
      "cell_type": "markdown",
      "source": [
        "TextPost __str__"
      ],
      "metadata": {
        "id": "x-K6slSJFFQA"
      }
    },
    {
      "cell_type": "markdown",
      "source": [
        "Already inherited from Post.\n",
        "\n"
      ],
      "metadata": {
        "id": "MSQat1Q7FG4i"
      }
    },
    {
      "cell_type": "markdown",
      "source": [
        "PicturePost __str__"
      ],
      "metadata": {
        "id": "s18mh91jFJKY"
      }
    },
    {
      "cell_type": "code",
      "source": [
        "def __str__(self):\n",
        "    base_str = super().__str__()\n",
        "    return f'{base_str}\\n  Pic URL: {self.image_url}'\n"
      ],
      "metadata": {
        "id": "07YU6XfeFKqe"
      },
      "execution_count": 9,
      "outputs": []
    },
    {
      "cell_type": "code",
      "source": [
        "def __str__(self):\n",
        "    user_name = f\"{self.user.first_name} {self.user.last_name}\" if self.user else \"Unknown User\"\n",
        "    return (f'{user_name} Checked In: \"{self.text}\"\\n'\n",
        "            f'  {self.latitude}, {self.longitude}\\n'\n",
        "            f'  {self.created_at.strftime(\"%A, %b %d, %Y\")}')\n"
      ],
      "metadata": {
        "id": "zmXNcCTaFM3V"
      },
      "execution_count": 10,
      "outputs": []
    },
    {
      "cell_type": "markdown",
      "source": [
        "Testing the Classes with Examples"
      ],
      "metadata": {
        "id": "4CcDJNEXFUdB"
      }
    },
    {
      "cell_type": "code",
      "source": [
        "# Create users\n",
        "john = User(\"John\", \"Lennon\", \"john@rmotr.com\")\n",
        "paul = User(\"Paul\", \"McCartney\", \"paul@rmotr.com\")\n",
        "george = User(\"George\", \"Harrison\", \"george@rmotr.com\")\n",
        "ringo = User(\"Ringo\", \"Starr\", \"ringo@rmotr.com\")\n",
        "\n",
        "# John follows Paul and George\n",
        "john.follow(paul)\n",
        "john.follow(george)\n",
        "\n",
        "# Users create posts\n",
        "john.add_post(TextPost(\"Just wrote a new song!\"))\n",
        "paul.add_post(PicturePost(\"Look at this cool guitar!\", image_url='imgur.com/guitar.png'))\n",
        "george.add_post(CheckInPost(\"At the studio\", latitude=\"51.5033\", longitude=\"-0.1195\"))\n",
        "ringo.add_post(TextPost(\"Drumming all day!\"))\n",
        "\n",
        "# John tries to follow himself (should not be allowed)\n",
        "john.follow(john)\n",
        "\n",
        "# John follows Ringo\n",
        "john.follow(ringo)\n",
        "\n",
        "# Get John's timeline\n",
        "timeline = john.get_timeline()\n",
        "for post in timeline:\n",
        "    print(post)\n",
        "    print(\"-\" * 40)\n"
      ],
      "metadata": {
        "colab": {
          "base_uri": "https://localhost:8080/"
        },
        "id": "FbfZmcU8FUxO",
        "outputId": "83ad1bb1-a915-4d6f-88bf-7db539b1b533"
      },
      "execution_count": 11,
      "outputs": [
        {
          "output_type": "stream",
          "name": "stdout",
          "text": [
            "Ringo Starr: \"Drumming all day!\"\n",
            "  Saturday, Sep 14, 2024\n",
            "----------------------------------------\n",
            "George Harrison Checked In: \"At the studio\"\n",
            "  51.5033, -0.1195\n",
            "  Saturday, Sep 14, 2024\n",
            "----------------------------------------\n",
            "Paul McCartney: \"Look at this cool guitar!\"\n",
            "  Saturday, Sep 14, 2024\n",
            "  Pic URL: imgur.com/guitar.png\n",
            "----------------------------------------\n"
          ]
        }
      ]
    },
    {
      "cell_type": "markdown",
      "source": [
        "Conclusion\n"
      ],
      "metadata": {
        "id": "sA9jEmByFw5T"
      }
    },
    {
      "cell_type": "markdown",
      "source": [
        "We have succeeded in building a simplified social network called Rmotrgram with the following features:\n",
        "\n",
        "Categories of Posts: Textual entries, image-based posts, and geolocation check-ins.\n",
        "\n",
        "User Functionality: Users can create posts, followed by users, and also have a timeline showing the posts of other users they follow.\n",
        "\n",
        "Polymorphism: Different types of posts have personalized string representations.\n",
        "\n",
        "Object-Oriented Principles: Utilized inheritance, encapsulation, and polymorphism.\n",
        "\n",
        "Inheritance allows for code reuse and the creation of specialized subclasses.\n",
        "\n",
        "Encapsulation allows the collection of data with methods manipulating that data.\n",
        "\n",
        "Polymorphism allows for a single interface to be used, yet with potentially different underlying representations-meaning, for example, different __str__ methods."
      ],
      "metadata": {
        "id": "Sca0Jz_PF20b"
      }
    },
    {
      "cell_type": "code",
      "source": [],
      "metadata": {
        "id": "A4h2boMpF83t"
      },
      "execution_count": null,
      "outputs": []
    }
  ]
}